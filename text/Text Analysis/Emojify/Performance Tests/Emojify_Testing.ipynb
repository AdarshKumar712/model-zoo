{
 "cells": [
  {
   "cell_type": "markdown",
   "metadata": {},
   "source": [
    "# Testing Model\n",
    "Let's test the model performance on test data"
   ]
  },
  {
   "cell_type": "code",
   "execution_count": 1,
   "metadata": {},
   "outputs": [
    {
     "name": "stderr",
     "output_type": "stream",
     "text": [
      "┌ Info: CUDAdrv.jl failed to initialize, GPU functionality unavailable (set JULIA_CUDA_SILENT or JULIA_CUDA_VERBOSE to silence or expand this message)\n",
      "└ @ CUDAdrv /home/blackforest/.julia/packages/CUDAdrv/mCr0O/src/CUDAdrv.jl:69\n"
     ]
    }
   ],
   "source": [
    "using Flux\n",
    "using Flux:onehot,crossentropy,onecold\n",
    "using CSV,MLBase\n",
    "using DataFrames\n",
    "using BSON\n",
    "using Embeddings\n",
    "using WordTokenizers\n",
    "using Random"
   ]
  },
  {
   "cell_type": "code",
   "execution_count": 2,
   "metadata": {},
   "outputs": [
    {
     "data": {
      "text/plain": [
       "Dict{Int64,String} with 5 entries:\n",
       "  0 => \"💙\"\n",
       "  4 => \"🍴\"\n",
       "  2 => \"😄\"\n",
       "  3 => \"😞\"\n",
       "  1 => \"🎾\""
      ]
     },
     "execution_count": 2,
     "metadata": {},
     "output_type": "execute_result"
    }
   ],
   "source": [
    "emoji_dictionary = Dict{Int64,String}(0=>\"💙\",    # :heart: prints a black instead of red heart depending on the font\n",
    "                    1=> \"🎾\",\n",
    "                    2=> \"😄\",\n",
    "                    3=> \"😞\",\n",
    "                    4=> \"🍴\")"
   ]
  },
  {
   "cell_type": "code",
   "execution_count": 3,
   "metadata": {},
   "outputs": [
    {
     "data": {
      "text/plain": [
       "tokenize (generic function with 1 method)"
      ]
     },
     "execution_count": 3,
     "metadata": {},
     "output_type": "execute_result"
    }
   ],
   "source": [
    "const embtable = load_embeddings(GloVe) # or load_embeddings(FastText_Text) or ...\n",
    "\n",
    "const get_word_index = Dict(word=>ii for (ii,word) in enumerate(embtable.vocab))\n",
    "\n",
    "function get_embedding(word)\n",
    "    ind = get_word_index[word]\n",
    "    emb = embtable.embeddings[:,ind]\n",
    "    return emb\n",
    "end\n",
    "\n",
    "set_tokenizer(poormans_tokenize)"
   ]
  },
  {
   "cell_type": "code",
   "execution_count": 4,
   "metadata": {},
   "outputs": [
    {
     "data": {
      "text/plain": [
       "tokenise (generic function with 1 method)"
      ]
     },
     "execution_count": 4,
     "metadata": {},
     "output_type": "execute_result"
    }
   ],
   "source": [
    "function tokenise(s)\n",
    "    token_arr = []\n",
    "    for c in s\n",
    "        if (c in keys(get_word_index))==1\n",
    "        push!(token_arr,get_embedding(c))\n",
    "    else\n",
    "        #print(c)\n",
    "        push!(token_arr,get_embedding(\"unk\"))\n",
    "    \n",
    "        end\n",
    "    end\n",
    "    return token_arr\n",
    "end"
   ]
  },
  {
   "cell_type": "code",
   "execution_count": 6,
   "metadata": {},
   "outputs": [
    {
     "name": "stdout",
     "output_type": "stream",
     "text": [
      "thread = 1 warning: only found 2 / 4 columns on data row: 1. Filling remaining columns with `missing`\n",
      "thread = 1 warning: only found 2 / 4 columns on data row: 2. Filling remaining columns with `missing`\n",
      "thread = 1 warning: only found 2 / 4 columns on data row: 3. Filling remaining columns with `missing`\n",
      "thread = 1 warning: only found 2 / 4 columns on data row: 4. Filling remaining columns with `missing`\n",
      "thread = 1 warning: only found 2 / 4 columns on data row: 5. Filling remaining columns with `missing`\n",
      "thread = 1 warning: only found 2 / 4 columns on data row: 6. Filling remaining columns with `missing`\n",
      "thread = 1 warning: only found 2 / 4 columns on data row: 7. Filling remaining columns with `missing`\n",
      "thread = 1 warning: only found 2 / 4 columns on data row: 8. Filling remaining columns with `missing`\n",
      "thread = 1 warning: only found 2 / 4 columns on data row: 9. Filling remaining columns with `missing`\n",
      "thread = 1 warning: only found 2 / 4 columns on data row: 10. Filling remaining columns with `missing`\n",
      "thread = 1 warning: only found 2 / 4 columns on data row: 11. Filling remaining columns with `missing`\n",
      "thread = 1 warning: only found 2 / 4 columns on data row: 12. Filling remaining columns with `missing`\n",
      "thread = 1 warning: only found 2 / 4 columns on data row: 13. Filling remaining columns with `missing`\n",
      "thread = 1 warning: only found 2 / 4 columns on data row: 14. Filling remaining columns with `missing`\n",
      "thread = 1 warning: only found 2 / 4 columns on data row: 15. Filling remaining columns with `missing`\n",
      "thread = 1 warning: only found 2 / 4 columns on data row: 16. Filling remaining columns with `missing`\n",
      "thread = 1 warning: only found 2 / 4 columns on data row: 17. Filling remaining columns with `missing`\n",
      "thread = 1 warning: only found 2 / 4 columns on data row: 18. Filling remaining columns with `missing`\n",
      "thread = 1 warning: only found 2 / 4 columns on data row: 19. Filling remaining columns with `missing`\n",
      "thread = 1 warning: only found 2 / 4 columns on data row: 20. Filling remaining columns with `missing`\n",
      "thread = 1 warning: only found 2 / 4 columns on data row: 21. Filling remaining columns with `missing`\n",
      "thread = 1 warning: only found 2 / 4 columns on data row: 22. Filling remaining columns with `missing`\n",
      "thread = 1 warning: only found 2 / 4 columns on data row: 23. Filling remaining columns with `missing`\n",
      "thread = 1 warning: only found 2 / 4 columns on data row: 24. Filling remaining columns with `missing`\n",
      "thread = 1 warning: only found 2 / 4 columns on data row: 25. Filling remaining columns with `missing`\n",
      "thread = 1 warning: only found 2 / 4 columns on data row: 26. Filling remaining columns with `missing`\n",
      "thread = 1 warning: only found 2 / 4 columns on data row: 27. Filling remaining columns with `missing`\n",
      "thread = 1 warning: only found 2 / 4 columns on data row: 28. Filling remaining columns with `missing`\n",
      "thread = 1 warning: only found 2 / 4 columns on data row: 29. Filling remaining columns with `missing`\n",
      "thread = 1 warning: only found 2 / 4 columns on data row: 30. Filling remaining columns with `missing`\n",
      "thread = 1 warning: only found 2 / 4 columns on data row: 31. Filling remaining columns with `missing`\n",
      "thread = 1 warning: only found 2 / 4 columns on data row: 32. Filling remaining columns with `missing`\n",
      "thread = 1 warning: only found 2 / 4 columns on data row: 33. Filling remaining columns with `missing`\n",
      "thread = 1 warning: only found 2 / 4 columns on data row: 34. Filling remaining columns with `missing`\n",
      "thread = 1 warning: only found 2 / 4 columns on data row: 35. Filling remaining columns with `missing`\n",
      "thread = 1 warning: only found 2 / 4 columns on data row: 36. Filling remaining columns with `missing`\n",
      "thread = 1 warning: only found 2 / 4 columns on data row: 37. Filling remaining columns with `missing`\n",
      "thread = 1 warning: only found 2 / 4 columns on data row: 38. Filling remaining columns with `missing`\n",
      "thread = 1 warning: only found 2 / 4 columns on data row: 39. Filling remaining columns with `missing`\n",
      "thread = 1 warning: only found 2 / 4 columns on data row: 40. Filling remaining columns with `missing`\n",
      "thread = 1 warning: only found 2 / 4 columns on data row: 41. Filling remaining columns with `missing`\n",
      "thread = 1 warning: only found 2 / 4 columns on data row: 42. Filling remaining columns with `missing`\n",
      "thread = 1 warning: only found 2 / 4 columns on data row: 43. Filling remaining columns with `missing`\n",
      "thread = 1 warning: only found 2 / 4 columns on data row: 44. Filling remaining columns with `missing`\n",
      "thread = 1 warning: only found 2 / 4 columns on data row: 45. Filling remaining columns with `missing`\n",
      "thread = 1 warning: only found 2 / 4 columns on data row: 46. Filling remaining columns with `missing`\n",
      "thread = 1 warning: only found 2 / 4 columns on data row: 47. Filling remaining columns with `missing`\n",
      "thread = 1 warning: only found 2 / 4 columns on data row: 48. Filling remaining columns with `missing`\n",
      "thread = 1 warning: only found 2 / 4 columns on data row: 49. Filling remaining columns with `missing`\n",
      "thread = 1 warning: only found 2 / 4 columns on data row: 50. Filling remaining columns with `missing`\n",
      "thread = 1 warning: only found 2 / 4 columns on data row: 51. Filling remaining columns with `missing`\n",
      "thread = 1 warning: only found 2 / 4 columns on data row: 52. Filling remaining columns with `missing`\n",
      "thread = 1 warning: only found 2 / 4 columns on data row: 53. Filling remaining columns with `missing`\n",
      "thread = 1 warning: only found 2 / 4 columns on data row: 54. Filling remaining columns with `missing`\n",
      "thread = 1 warning: only found 2 / 4 columns on data row: 55. Filling remaining columns with `missing`\n",
      "thread = 1 warning: only found 2 / 4 columns on data row: 56. Filling remaining columns with `missing`\n"
     ]
    },
    {
     "data": {
      "text/html": [
       "<table class=\"data-frame\"><thead><tr><th></th><th>Text</th><th>Classifier</th></tr><tr><th></th><th>String</th><th>Int64</th></tr></thead><tbody><p>6 rows × 2 columns</p><tr><th>1</th><td>I want to eat\\t</td><td>4</td></tr><tr><th>2</th><td>he did not answer\\t</td><td>3</td></tr><tr><th>3</th><td>he got a very nice raise\\t</td><td>2</td></tr><tr><th>4</th><td>she got me a nice present\\t</td><td>2</td></tr><tr><th>5</th><td>ha ha ha it was so funny\\t</td><td>2</td></tr><tr><th>6</th><td>he is a good friend\\t</td><td>2</td></tr></tbody></table>"
      ],
      "text/latex": [
       "\\begin{tabular}{r|cc}\n",
       "\t& Text & Classifier\\\\\n",
       "\t\\hline\n",
       "\t& String & Int64\\\\\n",
       "\t\\hline\n",
       "\t1 & I want to eat\\textbackslash{}t & 4 \\\\\n",
       "\t2 & he did not answer\\textbackslash{}t & 3 \\\\\n",
       "\t3 & he got a very nice raise\\textbackslash{}t & 2 \\\\\n",
       "\t4 & she got me a nice present\\textbackslash{}t & 2 \\\\\n",
       "\t5 & ha ha ha it was so funny\\textbackslash{}t & 2 \\\\\n",
       "\t6 & he is a good friend\\textbackslash{}t & 2 \\\\\n",
       "\\end{tabular}\n"
      ],
      "text/plain": [
       "6×2 DataFrame\n",
       "│ Row │ Text                        │ Classifier │\n",
       "│     │ \u001b[90mString\u001b[39m                      │ \u001b[90mInt64\u001b[39m      │\n",
       "├─────┼─────────────────────────────┼────────────┤\n",
       "│ 1   │ I want to eat\\t             │ 4          │\n",
       "│ 2   │ he did not answer\\t         │ 3          │\n",
       "│ 3   │ he got a very nice raise\\t  │ 2          │\n",
       "│ 4   │ she got me a nice present\\t │ 2          │\n",
       "│ 5   │ ha ha ha it was so funny\\t  │ 2          │\n",
       "│ 6   │ he is a good friend\\t       │ 2          │"
      ]
     },
     "execution_count": 6,
     "metadata": {},
     "output_type": "execute_result"
    }
   ],
   "source": [
    "test = CSV.read(\"./Downloads/emojify/test_emoji.csv\",header =[\"Text\",\"Classifier\",\"Col3\",\"Col4\"])[:,[1,2]];\n",
    "first(test,6)"
   ]
  },
  {
   "cell_type": "markdown",
   "metadata": {},
   "source": [
    "Now, Let's load the data"
   ]
  },
  {
   "cell_type": "code",
   "execution_count": 67,
   "metadata": {},
   "outputs": [],
   "source": [
    "BSON.@load \"./Downloads/emojify/emojifier_norm.bson\" Scanner max_length"
   ]
  },
  {
   "cell_type": "markdown",
   "metadata": {},
   "source": [
    "Before testing the data, we first need to pre-process the data same as we did while training"
   ]
  },
  {
   "cell_type": "code",
   "execution_count": 68,
   "metadata": {},
   "outputs": [],
   "source": [
    "X_test = test[:,1]\n",
    "Y_test = test[:,2]\n",
    "N = 5\n",
    "Y_ = zeros(N,length(Y_test))\n",
    "for i in 1:length(Y_test)\n",
    "    Y_[Y_test[i]+1,i] = 1\n",
    "end\n",
    "\n",
    "X_t = [tokenize(lowercase(i)) for i in X_test] \n",
    "Xs_t = [tokenise(a) for a in X_t];\n",
    "\n",
    "X1_t = []\n",
    "for i in 1:length(Xs_t)\n",
    "    m = fill(0.0,(length(Xs_t[1][1]),max_length))\n",
    "    for j =1:length(Xs_t[i])\n",
    "        for k in 1:length(Xs_t[i][j])\n",
    "            m[k,j] = Xs_t[i][j][k]\n",
    "        end\n",
    "    end\n",
    "    push!(X1_t,m)\n",
    "end\n",
    "\n",
    "Y1_t = []\n",
    "for i in 1:size(Y_)[2]\n",
    "    push!(Y1_t,Y_[:,i])\n",
    "end\n",
    "\n",
    "for i in 1:length(X_test)\n",
    "    X1_t[i] = Flux.normalise(X1_t[i],dims = 2)\n",
    "end"
   ]
  },
  {
   "cell_type": "code",
   "execution_count": 69,
   "metadata": {},
   "outputs": [
    {
     "name": "stdout",
     "output_type": "stream",
     "text": [
      "Example: \n",
      "Text: I am upset\t\n",
      "Real Emoji: 😞\n",
      "Predicted: 😞\n",
      "\n",
      "\n",
      "Text: she is a bully\t\n",
      "Real Emoji: 😞\n",
      "Predicted: 💙\n",
      "\n",
      "\n",
      "Text: he is a good friend\t\n",
      "Real Emoji: 😄\n",
      "Predicted: 😄\n",
      "\n",
      "\n",
      "Text: yesterday we lost again\t\n",
      "Real Emoji: 😞\n",
      "Predicted: 🎾\n",
      "\n",
      "\n",
      "Text: will you be my valentine\t\n",
      "Real Emoji: 😄\n",
      "Predicted: 😞\n",
      "\n"
     ]
    }
   ],
   "source": [
    "#Testing the Label\n",
    "test_rand = (abs.(rand(Int,5).%56)).+1\n",
    "y_label = []\n",
    "for i in 1:length(X1_t)\n",
    "    push!(y_label,Scanner(X1_t[i]))\n",
    "    Flux.reset!(Scanner)\n",
    "end\n",
    "print(\"Example: \")\n",
    "for i in test_rand\n",
    "    print(\"\\nText: \",X_test[i],\"\\n\",\"Real Emoji: \",emoji_dictionary[Y_test[i]])\n",
    "    print(\"\\nPredicted: \", emoji_dictionary[argmax(y_label[i][:,max_length])-1],\"\\n\\n\")\n",
    "end"
   ]
  },
  {
   "cell_type": "code",
   "execution_count": 70,
   "metadata": {},
   "outputs": [
    {
     "data": {
      "text/plain": [
       "5×5 Array{Int64,2}:\n",
       " 6  1   0  0  0\n",
       " 0  6   0  1  1\n",
       " 5  1  10  2  0\n",
       " 5  1   1  8  1\n",
       " 0  0   3  0  4"
      ]
     },
     "execution_count": 70,
     "metadata": {},
     "output_type": "execute_result"
    }
   ],
   "source": [
    "y_pred = []\n",
    "for i in 1:length(y_label)\n",
    "    push!(y_pred,Int64(argmax(y_label[i][:,max_length])-1))\n",
    "    end\n",
    "y_pred = Int64.(y_pred);\n",
    "\n",
    "confusmat(5,Y_test.+1,y_pred.+1)"
   ]
  },
  {
   "cell_type": "code",
   "execution_count": 71,
   "metadata": {},
   "outputs": [
    {
     "data": {
      "text/plain": [
       "accuracy (generic function with 1 method)"
      ]
     },
     "execution_count": 71,
     "metadata": {},
     "output_type": "execute_result"
    }
   ],
   "source": [
    "function accuracy(x,y)\n",
    "    y_hat = []\n",
    "    for i in 1:length(x)\n",
    "        push!(y_hat,Scanner(x[i]))\n",
    "        Flux.reset!(Scanner)\n",
    "    end\n",
    "    sum=0.0\n",
    "    for i in 1:length(y)\n",
    "        if (argmax(y_hat[i][:,max_length])==argmax(y[i]))\n",
    "        sum+=1.0\n",
    "        end\n",
    "    end\n",
    "    return sum/length(y)\n",
    "end"
   ]
  },
  {
   "cell_type": "code",
   "execution_count": 72,
   "metadata": {},
   "outputs": [
    {
     "data": {
      "text/plain": [
       "0.6071428571428571"
      ]
     },
     "execution_count": 72,
     "metadata": {},
     "output_type": "execute_result"
    }
   ],
   "source": [
    "accuracy(X1_t,Y1_t)"
   ]
  },
  {
   "cell_type": "code",
   "execution_count": null,
   "metadata": {},
   "outputs": [],
   "source": []
  }
 ],
 "metadata": {
  "kernelspec": {
   "display_name": "Julia 1.3.1",
   "language": "julia",
   "name": "julia-1.3"
  },
  "language_info": {
   "file_extension": ".jl",
   "mimetype": "application/julia",
   "name": "julia",
   "version": "1.3.1"
  }
 },
 "nbformat": 4,
 "nbformat_minor": 2
}
